{
 "cells": [
  {
   "cell_type": "markdown",
   "metadata": {},
   "source": [
    "                                    Portfolio Optimisation\n",
    "                                            Group-9\n",
    "                                        \n",
    "                                        Safwan Ahmed\n",
    "                                        \n",
    "                                        Sadman Sakib Ifty\n",
    "                                        \n",
    "                                        Md. Ashiqur Rahaman\n",
    "                                    "
   ]
  },
  {
   "cell_type": "code",
   "execution_count": 1,
   "metadata": {},
   "outputs": [],
   "source": [
    "\"\"\" A portfolio optimisation project of a selected number of companies. We conducted correlation and covariance \n",
    "matrices. A histogram is used to portray daily logarithmic returns. A sensitivity analysis was also carried to find\n",
    "the sensitivity of the S&P500 index to the movements of Apple's share price. \"\"\"\n",
    "\n",
    "import numpy as np\n",
    "import pandas as pd\n",
    "import seaborn as sns\n",
    "from pandas_datareader import data as wb\n",
    "from datetime import datetime\n",
    "\n",
    "import matplotlib.pyplot as plt\n",
    "%matplotlib inline \n",
    "\n",
    "from scipy import stats\n",
    "from scipy.stats import pearsonr\n",
    "\n",
    "import statsmodels.api as sm\n",
    "from statsmodels.stats import diagnostic as diag\n",
    "from statsmodels.stats.outliers_influence import variance_inflation_factor\n",
    "\n",
    "from sklearn.model_selection import train_test_split\n",
    "from sklearn.linear_model import LinearRegression\n",
    "from sklearn.metrics import mean_squared_error, r2_score, mean_absolute_error\n",
    "\n",
    "from pylab import rcParams\n",
    "rcParams['figure.figsize'] = 16, 12"
   ]
  },
  {
   "cell_type": "code",
   "execution_count": 2,
   "metadata": {},
   "outputs": [],
   "source": [
    "#Research time period of 10 years from 2009 to 2018\n",
    "\n",
    "start = pd.to_datetime('2009-01-01')\n",
    "end = pd.to_datetime('2018-12-31')                           "
   ]
  },
  {
   "cell_type": "code",
   "execution_count": 3,
   "metadata": {},
   "outputs": [],
   "source": [
    "\"\"\"Importing the closing prices of the randomly selected stocks from Tech, Financial Services and Retail sectors \n",
    "and the S&P500 index \"\"\"\n",
    "\n",
    "stocks = ['Apple','Microsoft','Netflix','Walmart','CostCo','Macys', 'Goldman Sachs','JP Morgan Chase','Bank of America']\n",
    "\n",
    "apple = wb.DataReader('AAPL', data_source = 'yahoo', start = start, end = end)['Adj Close']\n",
    "microsoft = wb.DataReader('MSFT', data_source = 'yahoo', start = start, end = end)['Adj Close']\n",
    "netflix = wb.DataReader('NFLX', data_source = 'yahoo', start = start, end = end)['Adj Close']\n",
    "walmart = wb.DataReader('WMT', data_source = 'yahoo', start = start, end = end)['Adj Close']\n",
    "costco = wb.DataReader('COST', data_source = 'yahoo', start = start, end = end)['Adj Close']\n",
    "macy = wb.DataReader('M', data_source = 'yahoo', start = start, end = end)['Adj Close']\n",
    "goldman = wb.DataReader('GS', data_source = 'yahoo', start = start, end = end)['Adj Close']\n",
    "bank_of_america = wb.DataReader('BAC', data_source = 'yahoo', start = start, end = end)['Adj Close']\n",
    "jp_morgan = wb.DataReader('JPM', data_source = 'yahoo', start = start, end = end)['Adj Close']\n",
    "\n",
    "SP500 = wb.DataReader('^GSPC', data_source = 'yahoo', start = start, end = end)['Adj Close']\n"
   ]
  },
  {
   "cell_type": "code",
   "execution_count": 4,
   "metadata": {},
   "outputs": [],
   "source": [
    "##Rounding off the closing share prices to 2 decimal places and assigning proper headings for further analysis\n",
    "\n",
    "closing_price = round(pd.concat([apple, microsoft, netflix, walmart, costco, macy, goldman, bank_of_america, jp_morgan], axis = 1),2)\n",
    "closing_price.columns = ['Apple', 'Microsoft','Netflix','Walmart','Costco','Macy','Goldman Sachs','Bank of America','JP Morgan'] "
   ]
  },
  {
   "cell_type": "code",
   "execution_count": 5,
   "metadata": {},
   "outputs": [
    {
     "data": {
      "text/plain": [
       "Apple               2.80\n",
       "Microsoft          15.47\n",
       "Netflix             4.27\n",
       "Walmart            42.72\n",
       "Costco             39.45\n",
       "Macy                7.43\n",
       "Goldman Sachs      72.84\n",
       "Bank of America    12.48\n",
       "JP Morgan          23.52\n",
       "Name: 2009-01-02 00:00:00, dtype: float64"
      ]
     },
     "execution_count": 5,
     "metadata": {},
     "output_type": "execute_result"
    }
   ],
   "source": [
    "closing_price.iloc[0]"
   ]
  },
  {
   "cell_type": "code",
   "execution_count": 6,
   "metadata": {},
   "outputs": [
    {
     "data": {
      "text/html": [
       "<div>\n",
       "<style scoped>\n",
       "    .dataframe tbody tr th:only-of-type {\n",
       "        vertical-align: middle;\n",
       "    }\n",
       "\n",
       "    .dataframe tbody tr th {\n",
       "        vertical-align: top;\n",
       "    }\n",
       "\n",
       "    .dataframe thead th {\n",
       "        text-align: right;\n",
       "    }\n",
       "</style>\n",
       "<table border=\"1\" class=\"dataframe\">\n",
       "  <thead>\n",
       "    <tr style=\"text-align: right;\">\n",
       "      <th></th>\n",
       "      <th>SP500</th>\n",
       "    </tr>\n",
       "    <tr>\n",
       "      <th>Date</th>\n",
       "      <th></th>\n",
       "    </tr>\n",
       "  </thead>\n",
       "  <tbody>\n",
       "    <tr>\n",
       "      <td>2009-01-02</td>\n",
       "      <td>931.80</td>\n",
       "    </tr>\n",
       "    <tr>\n",
       "      <td>2009-01-05</td>\n",
       "      <td>927.45</td>\n",
       "    </tr>\n",
       "    <tr>\n",
       "      <td>2009-01-06</td>\n",
       "      <td>934.70</td>\n",
       "    </tr>\n",
       "    <tr>\n",
       "      <td>2009-01-07</td>\n",
       "      <td>906.65</td>\n",
       "    </tr>\n",
       "    <tr>\n",
       "      <td>2009-01-08</td>\n",
       "      <td>909.73</td>\n",
       "    </tr>\n",
       "    <tr>\n",
       "      <td>...</td>\n",
       "      <td>...</td>\n",
       "    </tr>\n",
       "    <tr>\n",
       "      <td>2018-12-24</td>\n",
       "      <td>2351.10</td>\n",
       "    </tr>\n",
       "    <tr>\n",
       "      <td>2018-12-26</td>\n",
       "      <td>2467.70</td>\n",
       "    </tr>\n",
       "    <tr>\n",
       "      <td>2018-12-27</td>\n",
       "      <td>2488.83</td>\n",
       "    </tr>\n",
       "    <tr>\n",
       "      <td>2018-12-28</td>\n",
       "      <td>2485.74</td>\n",
       "    </tr>\n",
       "    <tr>\n",
       "      <td>2018-12-31</td>\n",
       "      <td>2506.85</td>\n",
       "    </tr>\n",
       "  </tbody>\n",
       "</table>\n",
       "<p>2516 rows × 1 columns</p>\n",
       "</div>"
      ],
      "text/plain": [
       "              SP500\n",
       "Date               \n",
       "2009-01-02   931.80\n",
       "2009-01-05   927.45\n",
       "2009-01-06   934.70\n",
       "2009-01-07   906.65\n",
       "2009-01-08   909.73\n",
       "...             ...\n",
       "2018-12-24  2351.10\n",
       "2018-12-26  2467.70\n",
       "2018-12-27  2488.83\n",
       "2018-12-28  2485.74\n",
       "2018-12-31  2506.85\n",
       "\n",
       "[2516 rows x 1 columns]"
      ]
     },
     "execution_count": 6,
     "metadata": {},
     "output_type": "execute_result"
    }
   ],
   "source": [
    "#Forming a columnar format of the index figures with SP500  \n",
    "index_value = round(pd.concat([SP500], axis = 1),2)\n",
    "index_value.columns = ['SP500'] \n",
    "index_value"
   ]
  },
  {
   "cell_type": "code",
   "execution_count": 7,
   "metadata": {},
   "outputs": [
    {
     "data": {
      "image/png": "[encoded data removed]",
      "text/plain": [
       "<Figure size 1080x432 with 1 Axes>"
      ]
     },
     "metadata": {
      "needs_background": "light"
     },
     "output_type": "display_data"
    }
   ],
   "source": [
    "#Normalising the share prices to 100 to show the increase in share value over the 10 year period. \n",
    "#Normalising helps us to put the price into perspective with other companies\n",
    "\n",
    "(closing_price/closing_price.iloc[0] * 100).plot(figsize = (15,6));\n",
    "plt.show()"
   ]
  },
  {
   "cell_type": "code",
   "execution_count": 8,
   "metadata": {
    "scrolled": true
   },
   "outputs": [
    {
     "data": {
      "text/html": [
       "<div>\n",
       "<style scoped>\n",
       "    .dataframe tbody tr th:only-of-type {\n",
       "        vertical-align: middle;\n",
       "    }\n",
       "\n",
       "    .dataframe tbody tr th {\n",
       "        vertical-align: top;\n",
       "    }\n",
       "\n",
       "    .dataframe thead th {\n",
       "        text-align: right;\n",
       "    }\n",
       "</style>\n",
       "<table border=\"1\" class=\"dataframe\">\n",
       "  <thead>\n",
       "    <tr style=\"text-align: right;\">\n",
       "      <th></th>\n",
       "      <th>Apple</th>\n",
       "      <th>Microsoft</th>\n",
       "      <th>Netflix</th>\n",
       "      <th>Walmart</th>\n",
       "      <th>Costco</th>\n",
       "      <th>Macy</th>\n",
       "      <th>Goldman Sachs</th>\n",
       "      <th>Bank of America</th>\n",
       "      <th>JP Morgan</th>\n",
       "    </tr>\n",
       "    <tr>\n",
       "      <th>Date</th>\n",
       "      <th></th>\n",
       "      <th></th>\n",
       "      <th></th>\n",
       "      <th></th>\n",
       "      <th></th>\n",
       "      <th></th>\n",
       "      <th></th>\n",
       "      <th></th>\n",
       "      <th></th>\n",
       "    </tr>\n",
       "  </thead>\n",
       "  <tbody>\n",
       "    <tr>\n",
       "      <td>2009-01-02</td>\n",
       "      <td>2.80</td>\n",
       "      <td>15.47</td>\n",
       "      <td>4.27</td>\n",
       "      <td>42.72</td>\n",
       "      <td>39.45</td>\n",
       "      <td>7.43</td>\n",
       "      <td>72.84</td>\n",
       "      <td>12.48</td>\n",
       "      <td>23.52</td>\n",
       "    </tr>\n",
       "    <tr>\n",
       "      <td>2009-01-05</td>\n",
       "      <td>2.91</td>\n",
       "      <td>15.62</td>\n",
       "      <td>4.56</td>\n",
       "      <td>42.23</td>\n",
       "      <td>38.67</td>\n",
       "      <td>7.89</td>\n",
       "      <td>74.54</td>\n",
       "      <td>12.18</td>\n",
       "      <td>21.94</td>\n",
       "    </tr>\n",
       "    <tr>\n",
       "      <td>2009-01-06</td>\n",
       "      <td>2.87</td>\n",
       "      <td>15.80</td>\n",
       "      <td>4.71</td>\n",
       "      <td>41.85</td>\n",
       "      <td>38.04</td>\n",
       "      <td>7.91</td>\n",
       "      <td>74.48</td>\n",
       "      <td>12.44</td>\n",
       "      <td>22.41</td>\n",
       "    </tr>\n",
       "    <tr>\n",
       "      <td>2009-01-07</td>\n",
       "      <td>2.80</td>\n",
       "      <td>14.85</td>\n",
       "      <td>4.67</td>\n",
       "      <td>41.50</td>\n",
       "      <td>37.06</td>\n",
       "      <td>7.65</td>\n",
       "      <td>70.95</td>\n",
       "      <td>11.94</td>\n",
       "      <td>21.07</td>\n",
       "    </tr>\n",
       "    <tr>\n",
       "      <td>2009-01-08</td>\n",
       "      <td>2.86</td>\n",
       "      <td>15.31</td>\n",
       "      <td>4.74</td>\n",
       "      <td>38.39</td>\n",
       "      <td>37.45</td>\n",
       "      <td>7.39</td>\n",
       "      <td>71.71</td>\n",
       "      <td>11.79</td>\n",
       "      <td>20.42</td>\n",
       "    </tr>\n",
       "  </tbody>\n",
       "</table>\n",
       "</div>"
      ],
      "text/plain": [
       "            Apple  Microsoft  Netflix  Walmart  Costco  Macy  Goldman Sachs  \\\n",
       "Date                                                                          \n",
       "2009-01-02   2.80      15.47     4.27    42.72   39.45  7.43          72.84   \n",
       "2009-01-05   2.91      15.62     4.56    42.23   38.67  7.89          74.54   \n",
       "2009-01-06   2.87      15.80     4.71    41.85   38.04  7.91          74.48   \n",
       "2009-01-07   2.80      14.85     4.67    41.50   37.06  7.65          70.95   \n",
       "2009-01-08   2.86      15.31     4.74    38.39   37.45  7.39          71.71   \n",
       "\n",
       "            Bank of America  JP Morgan  \n",
       "Date                                    \n",
       "2009-01-02            12.48      23.52  \n",
       "2009-01-05            12.18      21.94  \n",
       "2009-01-06            12.44      22.41  \n",
       "2009-01-07            11.94      21.07  \n",
       "2009-01-08            11.79      20.42  "
      ]
     },
     "execution_count": 8,
     "metadata": {},
     "output_type": "execute_result"
    }
   ],
   "source": [
    "closing_price.head()"
   ]
  },
  {
   "cell_type": "code",
   "execution_count": 9,
   "metadata": {},
   "outputs": [
    {
     "data": {
      "text/html": [
       "<div>\n",
       "<style scoped>\n",
       "    .dataframe tbody tr th:only-of-type {\n",
       "        vertical-align: middle;\n",
       "    }\n",
       "\n",
       "    .dataframe tbody tr th {\n",
       "        vertical-align: top;\n",
       "    }\n",
       "\n",
       "    .dataframe thead th {\n",
       "        text-align: right;\n",
       "    }\n",
       "</style>\n",
       "<table border=\"1\" class=\"dataframe\">\n",
       "  <thead>\n",
       "    <tr style=\"text-align: right;\">\n",
       "      <th></th>\n",
       "      <th>Apple</th>\n",
       "      <th>Microsoft</th>\n",
       "      <th>Netflix</th>\n",
       "      <th>Walmart</th>\n",
       "      <th>Costco</th>\n",
       "      <th>Macy</th>\n",
       "      <th>Goldman Sachs</th>\n",
       "      <th>Bank of America</th>\n",
       "      <th>JP Morgan</th>\n",
       "    </tr>\n",
       "    <tr>\n",
       "      <th>Date</th>\n",
       "      <th></th>\n",
       "      <th></th>\n",
       "      <th></th>\n",
       "      <th></th>\n",
       "      <th></th>\n",
       "      <th></th>\n",
       "      <th></th>\n",
       "      <th></th>\n",
       "      <th></th>\n",
       "    </tr>\n",
       "  </thead>\n",
       "  <tbody>\n",
       "    <tr>\n",
       "      <td>2018-12-24</td>\n",
       "      <td>35.85</td>\n",
       "      <td>91.79</td>\n",
       "      <td>233.88</td>\n",
       "      <td>82.74</td>\n",
       "      <td>181.80</td>\n",
       "      <td>24.96</td>\n",
       "      <td>149.59</td>\n",
       "      <td>21.64</td>\n",
       "      <td>86.22</td>\n",
       "    </tr>\n",
       "    <tr>\n",
       "      <td>2018-12-26</td>\n",
       "      <td>38.38</td>\n",
       "      <td>98.06</td>\n",
       "      <td>253.67</td>\n",
       "      <td>87.16</td>\n",
       "      <td>190.06</td>\n",
       "      <td>26.72</td>\n",
       "      <td>155.88</td>\n",
       "      <td>22.96</td>\n",
       "      <td>89.79</td>\n",
       "    </tr>\n",
       "    <tr>\n",
       "      <td>2018-12-27</td>\n",
       "      <td>38.13</td>\n",
       "      <td>98.66</td>\n",
       "      <td>255.57</td>\n",
       "      <td>88.30</td>\n",
       "      <td>192.41</td>\n",
       "      <td>26.64</td>\n",
       "      <td>158.26</td>\n",
       "      <td>23.21</td>\n",
       "      <td>90.80</td>\n",
       "    </tr>\n",
       "    <tr>\n",
       "      <td>2018-12-28</td>\n",
       "      <td>38.15</td>\n",
       "      <td>97.89</td>\n",
       "      <td>256.08</td>\n",
       "      <td>88.82</td>\n",
       "      <td>193.33</td>\n",
       "      <td>26.62</td>\n",
       "      <td>155.98</td>\n",
       "      <td>23.22</td>\n",
       "      <td>90.61</td>\n",
       "    </tr>\n",
       "    <tr>\n",
       "      <td>2018-12-31</td>\n",
       "      <td>38.52</td>\n",
       "      <td>99.04</td>\n",
       "      <td>267.66</td>\n",
       "      <td>89.80</td>\n",
       "      <td>194.92</td>\n",
       "      <td>26.41</td>\n",
       "      <td>159.83</td>\n",
       "      <td>23.46</td>\n",
       "      <td>91.35</td>\n",
       "    </tr>\n",
       "  </tbody>\n",
       "</table>\n",
       "</div>"
      ],
      "text/plain": [
       "            Apple  Microsoft  Netflix  Walmart  Costco   Macy  Goldman Sachs  \\\n",
       "Date                                                                           \n",
       "2018-12-24  35.85      91.79   233.88    82.74  181.80  24.96         149.59   \n",
       "2018-12-26  38.38      98.06   253.67    87.16  190.06  26.72         155.88   \n",
       "2018-12-27  38.13      98.66   255.57    88.30  192.41  26.64         158.26   \n",
       "2018-12-28  38.15      97.89   256.08    88.82  193.33  26.62         155.98   \n",
       "2018-12-31  38.52      99.04   267.66    89.80  194.92  26.41         159.83   \n",
       "\n",
       "            Bank of America  JP Morgan  \n",
       "Date                                    \n",
       "2018-12-24            21.64      86.22  \n",
       "2018-12-26            22.96      89.79  \n",
       "2018-12-27            23.21      90.80  \n",
       "2018-12-28            23.22      90.61  \n",
       "2018-12-31            23.46      91.35  "
      ]
     },
     "execution_count": 9,
     "metadata": {},
     "output_type": "execute_result"
    }
   ],
   "source": [
    "closing_price.tail()"
   ]
  },
  {
   "cell_type": "code",
   "execution_count": 10,
   "metadata": {},
   "outputs": [
    {
     "data": {
      "text/html": [
       "<div>\n",
       "<style scoped>\n",
       "    .dataframe tbody tr th:only-of-type {\n",
       "        vertical-align: middle;\n",
       "    }\n",
       "\n",
       "    .dataframe tbody tr th {\n",
       "        vertical-align: top;\n",
       "    }\n",
       "\n",
       "    .dataframe thead th {\n",
       "        text-align: right;\n",
       "    }\n",
       "</style>\n",
       "<table border=\"1\" class=\"dataframe\">\n",
       "  <thead>\n",
       "    <tr style=\"text-align: right;\">\n",
       "      <th></th>\n",
       "      <th>Apple</th>\n",
       "      <th>Microsoft</th>\n",
       "      <th>Netflix</th>\n",
       "      <th>Walmart</th>\n",
       "      <th>Costco</th>\n",
       "      <th>Macy</th>\n",
       "      <th>Goldman Sachs</th>\n",
       "      <th>Bank of America</th>\n",
       "      <th>JP Morgan</th>\n",
       "    </tr>\n",
       "  </thead>\n",
       "  <tbody>\n",
       "    <tr>\n",
       "      <td>Apple</td>\n",
       "      <td>1.000000</td>\n",
       "      <td>0.437292</td>\n",
       "      <td>0.215890</td>\n",
       "      <td>0.230422</td>\n",
       "      <td>0.335260</td>\n",
       "      <td>0.290435</td>\n",
       "      <td>0.425459</td>\n",
       "      <td>0.350801</td>\n",
       "      <td>0.399587</td>\n",
       "    </tr>\n",
       "    <tr>\n",
       "      <td>Microsoft</td>\n",
       "      <td>0.437292</td>\n",
       "      <td>1.000000</td>\n",
       "      <td>0.253338</td>\n",
       "      <td>0.275902</td>\n",
       "      <td>0.408497</td>\n",
       "      <td>0.310572</td>\n",
       "      <td>0.458403</td>\n",
       "      <td>0.382075</td>\n",
       "      <td>0.455306</td>\n",
       "    </tr>\n",
       "    <tr>\n",
       "      <td>Netflix</td>\n",
       "      <td>0.215890</td>\n",
       "      <td>0.253338</td>\n",
       "      <td>1.000000</td>\n",
       "      <td>0.118727</td>\n",
       "      <td>0.178023</td>\n",
       "      <td>0.161012</td>\n",
       "      <td>0.216653</td>\n",
       "      <td>0.163217</td>\n",
       "      <td>0.172459</td>\n",
       "    </tr>\n",
       "    <tr>\n",
       "      <td>Walmart</td>\n",
       "      <td>0.230422</td>\n",
       "      <td>0.275902</td>\n",
       "      <td>0.118727</td>\n",
       "      <td>1.000000</td>\n",
       "      <td>0.488296</td>\n",
       "      <td>0.290688</td>\n",
       "      <td>0.246709</td>\n",
       "      <td>0.188291</td>\n",
       "      <td>0.252748</td>\n",
       "    </tr>\n",
       "    <tr>\n",
       "      <td>Costco</td>\n",
       "      <td>0.335260</td>\n",
       "      <td>0.408497</td>\n",
       "      <td>0.178023</td>\n",
       "      <td>0.488296</td>\n",
       "      <td>1.000000</td>\n",
       "      <td>0.410495</td>\n",
       "      <td>0.374396</td>\n",
       "      <td>0.311085</td>\n",
       "      <td>0.384128</td>\n",
       "    </tr>\n",
       "    <tr>\n",
       "      <td>Macy</td>\n",
       "      <td>0.290435</td>\n",
       "      <td>0.310572</td>\n",
       "      <td>0.161012</td>\n",
       "      <td>0.290688</td>\n",
       "      <td>0.410495</td>\n",
       "      <td>1.000000</td>\n",
       "      <td>0.408437</td>\n",
       "      <td>0.403188</td>\n",
       "      <td>0.428445</td>\n",
       "    </tr>\n",
       "    <tr>\n",
       "      <td>Goldman Sachs</td>\n",
       "      <td>0.425459</td>\n",
       "      <td>0.458403</td>\n",
       "      <td>0.216653</td>\n",
       "      <td>0.246709</td>\n",
       "      <td>0.374396</td>\n",
       "      <td>0.408437</td>\n",
       "      <td>1.000000</td>\n",
       "      <td>0.701834</td>\n",
       "      <td>0.805433</td>\n",
       "    </tr>\n",
       "    <tr>\n",
       "      <td>Bank of America</td>\n",
       "      <td>0.350801</td>\n",
       "      <td>0.382075</td>\n",
       "      <td>0.163217</td>\n",
       "      <td>0.188291</td>\n",
       "      <td>0.311085</td>\n",
       "      <td>0.403188</td>\n",
       "      <td>0.701834</td>\n",
       "      <td>1.000000</td>\n",
       "      <td>0.810833</td>\n",
       "    </tr>\n",
       "    <tr>\n",
       "      <td>JP Morgan</td>\n",
       "      <td>0.399587</td>\n",
       "      <td>0.455306</td>\n",
       "      <td>0.172459</td>\n",
       "      <td>0.252748</td>\n",
       "      <td>0.384128</td>\n",
       "      <td>0.428445</td>\n",
       "      <td>0.805433</td>\n",
       "      <td>0.810833</td>\n",
       "      <td>1.000000</td>\n",
       "    </tr>\n",
       "  </tbody>\n",
       "</table>\n",
       "</div>"
      ],
      "text/plain": [
       "                    Apple  Microsoft   Netflix   Walmart    Costco      Macy  \\\n",
       "Apple            1.000000   0.437292  0.215890  0.230422  0.335260  0.290435   \n",
       "Microsoft        0.437292   1.000000  0.253338  0.275902  0.408497  0.310572   \n",
       "Netflix          0.215890   0.253338  1.000000  0.118727  0.178023  0.161012   \n",
       "Walmart          0.230422   0.275902  0.118727  1.000000  0.488296  0.290688   \n",
       "Costco           0.335260   0.408497  0.178023  0.488296  1.000000  0.410495   \n",
       "Macy             0.290435   0.310572  0.161012  0.290688  0.410495  1.000000   \n",
       "Goldman Sachs    0.425459   0.458403  0.216653  0.246709  0.374396  0.408437   \n",
       "Bank of America  0.350801   0.382075  0.163217  0.188291  0.311085  0.403188   \n",
       "JP Morgan        0.399587   0.455306  0.172459  0.252748  0.384128  0.428445   \n",
       "\n",
       "                 Goldman Sachs  Bank of America  JP Morgan  \n",
       "Apple                 0.425459         0.350801   0.399587  \n",
       "Microsoft             0.458403         0.382075   0.455306  \n",
       "Netflix               0.216653         0.163217   0.172459  \n",
       "Walmart               0.246709         0.188291   0.252748  \n",
       "Costco                0.374396         0.311085   0.384128  \n",
       "Macy                  0.408437         0.403188   0.428445  \n",
       "Goldman Sachs         1.000000         0.701834   0.805433  \n",
       "Bank of America       0.701834         1.000000   0.810833  \n",
       "JP Morgan             0.805433         0.810833   1.000000  "
      ]
     },
     "execution_count": 10,
     "metadata": {},
     "output_type": "execute_result"
    }
   ],
   "source": [
    "#Finding the correlation between the selected stocks\n",
    "closing_price.pct_change(1).corr()"
   ]
  },
  {
   "cell_type": "code",
   "execution_count": 11,
   "metadata": {},
   "outputs": [
    {
     "data": {
      "image/png": "[encoded data removed]",
      "text/plain": [
       "<Figure size 432x288 with 2 Axes>"
      ]
     },
     "metadata": {
      "needs_background": "light"
     },
     "output_type": "display_data"
    }
   ],
   "source": [
    "#Plotting a heatmap of the correlation matrix among the selected stocks to visually illustrate the strength of the correlation\n",
    "\n",
    "corr = closing_price.pct_change(1).corr()\n",
    "ax = sns.heatmap(\n",
    "    corr, \n",
    "    vmin=-1, vmax=1, center=0,\n",
    "    cmap=sns.diverging_palette(20, 220, n= 300),\n",
    "    square=True\n",
    ")\n",
    "ax.set_xticklabels(\n",
    "    ax.get_xticklabels(),\n",
    "    rotation=45,\n",
    "    horizontalalignment='right'\n",
    ");"
   ]
  },
  {
   "cell_type": "code",
   "execution_count": 12,
   "metadata": {},
   "outputs": [
    {
     "data": {
      "text/html": [
       "<div>\n",
       "<style scoped>\n",
       "    .dataframe tbody tr th:only-of-type {\n",
       "        vertical-align: middle;\n",
       "    }\n",
       "\n",
       "    .dataframe tbody tr th {\n",
       "        vertical-align: top;\n",
       "    }\n",
       "\n",
       "    .dataframe thead th {\n",
       "        text-align: right;\n",
       "    }\n",
       "</style>\n",
       "<table border=\"1\" class=\"dataframe\">\n",
       "  <thead>\n",
       "    <tr style=\"text-align: right;\">\n",
       "      <th></th>\n",
       "      <th>Apple</th>\n",
       "      <th>Microsoft</th>\n",
       "      <th>Netflix</th>\n",
       "      <th>Walmart</th>\n",
       "      <th>Costco</th>\n",
       "      <th>Macy</th>\n",
       "      <th>Goldman Sachs</th>\n",
       "      <th>Bank of America</th>\n",
       "      <th>JP Morgan</th>\n",
       "    </tr>\n",
       "    <tr>\n",
       "      <th>Date</th>\n",
       "      <th></th>\n",
       "      <th></th>\n",
       "      <th></th>\n",
       "      <th></th>\n",
       "      <th></th>\n",
       "      <th></th>\n",
       "      <th></th>\n",
       "      <th></th>\n",
       "      <th></th>\n",
       "    </tr>\n",
       "  </thead>\n",
       "  <tbody>\n",
       "    <tr>\n",
       "      <td>2009-01-02</td>\n",
       "      <td>NaN</td>\n",
       "      <td>NaN</td>\n",
       "      <td>NaN</td>\n",
       "      <td>NaN</td>\n",
       "      <td>NaN</td>\n",
       "      <td>NaN</td>\n",
       "      <td>NaN</td>\n",
       "      <td>NaN</td>\n",
       "      <td>NaN</td>\n",
       "    </tr>\n",
       "    <tr>\n",
       "      <td>2009-01-05</td>\n",
       "      <td>0.038534</td>\n",
       "      <td>0.009649</td>\n",
       "      <td>0.065709</td>\n",
       "      <td>-0.011536</td>\n",
       "      <td>-0.019970</td>\n",
       "      <td>0.060070</td>\n",
       "      <td>0.023071</td>\n",
       "      <td>-0.024332</td>\n",
       "      <td>-0.069540</td>\n",
       "    </tr>\n",
       "    <tr>\n",
       "      <td>2009-01-06</td>\n",
       "      <td>-0.013841</td>\n",
       "      <td>0.011458</td>\n",
       "      <td>0.032365</td>\n",
       "      <td>-0.009039</td>\n",
       "      <td>-0.016426</td>\n",
       "      <td>0.002532</td>\n",
       "      <td>-0.000805</td>\n",
       "      <td>0.021122</td>\n",
       "      <td>0.021196</td>\n",
       "    </tr>\n",
       "    <tr>\n",
       "      <td>2009-01-07</td>\n",
       "      <td>-0.024693</td>\n",
       "      <td>-0.062010</td>\n",
       "      <td>-0.008529</td>\n",
       "      <td>-0.008398</td>\n",
       "      <td>-0.026100</td>\n",
       "      <td>-0.033422</td>\n",
       "      <td>-0.048555</td>\n",
       "      <td>-0.041023</td>\n",
       "      <td>-0.061657</td>\n",
       "    </tr>\n",
       "    <tr>\n",
       "      <td>2009-01-08</td>\n",
       "      <td>0.021202</td>\n",
       "      <td>0.030506</td>\n",
       "      <td>0.014878</td>\n",
       "      <td>-0.077896</td>\n",
       "      <td>0.010468</td>\n",
       "      <td>-0.034578</td>\n",
       "      <td>0.010655</td>\n",
       "      <td>-0.012642</td>\n",
       "      <td>-0.031335</td>\n",
       "    </tr>\n",
       "  </tbody>\n",
       "</table>\n",
       "</div>"
      ],
      "text/plain": [
       "               Apple  Microsoft   Netflix   Walmart    Costco      Macy  \\\n",
       "Date                                                                      \n",
       "2009-01-02       NaN        NaN       NaN       NaN       NaN       NaN   \n",
       "2009-01-05  0.038534   0.009649  0.065709 -0.011536 -0.019970  0.060070   \n",
       "2009-01-06 -0.013841   0.011458  0.032365 -0.009039 -0.016426  0.002532   \n",
       "2009-01-07 -0.024693  -0.062010 -0.008529 -0.008398 -0.026100 -0.033422   \n",
       "2009-01-08  0.021202   0.030506  0.014878 -0.077896  0.010468 -0.034578   \n",
       "\n",
       "            Goldman Sachs  Bank of America  JP Morgan  \n",
       "Date                                                   \n",
       "2009-01-02            NaN              NaN        NaN  \n",
       "2009-01-05       0.023071        -0.024332  -0.069540  \n",
       "2009-01-06      -0.000805         0.021122   0.021196  \n",
       "2009-01-07      -0.048555        -0.041023  -0.061657  \n",
       "2009-01-08       0.010655        -0.012642  -0.031335  "
      ]
     },
     "execution_count": 12,
     "metadata": {},
     "output_type": "execute_result"
    }
   ],
   "source": [
    "#Finding the logarithmic returns of the closing prices of the stocks. \n",
    "#The logarithmic return method to calculate the daily returns is a accurate representation of daily returns.\n",
    "\n",
    "log_ret = np.log(closing_price / closing_price.shift(1))\n",
    "log_ret.head()"
   ]
  },
  {
   "cell_type": "code",
   "execution_count": 13,
   "metadata": {},
   "outputs": [
    {
     "data": {
      "text/html": [
       "<div>\n",
       "<style scoped>\n",
       "    .dataframe tbody tr th:only-of-type {\n",
       "        vertical-align: middle;\n",
       "    }\n",
       "\n",
       "    .dataframe tbody tr th {\n",
       "        vertical-align: top;\n",
       "    }\n",
       "\n",
       "    .dataframe thead th {\n",
       "        text-align: right;\n",
       "    }\n",
       "</style>\n",
       "<table border=\"1\" class=\"dataframe\">\n",
       "  <thead>\n",
       "    <tr style=\"text-align: right;\">\n",
       "      <th></th>\n",
       "      <th>Annual Return (%)</th>\n",
       "    </tr>\n",
       "  </thead>\n",
       "  <tbody>\n",
       "    <tr>\n",
       "      <td>Apple</td>\n",
       "      <td>26.27</td>\n",
       "    </tr>\n",
       "    <tr>\n",
       "      <td>Microsoft</td>\n",
       "      <td>18.60</td>\n",
       "    </tr>\n",
       "    <tr>\n",
       "      <td>Netflix</td>\n",
       "      <td>41.46</td>\n",
       "    </tr>\n",
       "    <tr>\n",
       "      <td>Walmart</td>\n",
       "      <td>7.44</td>\n",
       "    </tr>\n",
       "    <tr>\n",
       "      <td>Costco</td>\n",
       "      <td>16.01</td>\n",
       "    </tr>\n",
       "    <tr>\n",
       "      <td>Macy</td>\n",
       "      <td>12.71</td>\n",
       "    </tr>\n",
       "    <tr>\n",
       "      <td>Goldman Sachs</td>\n",
       "      <td>7.87</td>\n",
       "    </tr>\n",
       "    <tr>\n",
       "      <td>Bank of America</td>\n",
       "      <td>6.32</td>\n",
       "    </tr>\n",
       "    <tr>\n",
       "      <td>JP Morgan</td>\n",
       "      <td>13.60</td>\n",
       "    </tr>\n",
       "  </tbody>\n",
       "</table>\n",
       "</div>"
      ],
      "text/plain": [
       "                 Annual Return (%)\n",
       "Apple                        26.27\n",
       "Microsoft                    18.60\n",
       "Netflix                      41.46\n",
       "Walmart                       7.44\n",
       "Costco                       16.01\n",
       "Macy                         12.71\n",
       "Goldman Sachs                 7.87\n",
       "Bank of America               6.32\n",
       "JP Morgan                    13.60"
      ]
     },
     "execution_count": 13,
     "metadata": {},
     "output_type": "execute_result"
    }
   ],
   "source": [
    "#Average annual return over the 10-year time frame \n",
    "annual_ret  = log_ret.mean() * 252 * 100\n",
    "annual_ret = round(pd.concat([annual_ret], axis = 1),2)\n",
    "annual_ret.columns = ['Annual Return (%)'] \n",
    "annual_ret"
   ]
  },
  {
   "cell_type": "code",
   "execution_count": 14,
   "metadata": {},
   "outputs": [
    {
     "data": {
      "image/png": "[encoded data removed]",
      "text/plain": [
       "<Figure size 432x288 with 9 Axes>"
      ]
     },
     "metadata": {
      "needs_background": "light"
     },
     "output_type": "display_data"
    }
   ],
   "source": [
    "#presenting the daily returns in a histogram\n",
    "log_ret.hist(bins = 100)\n",
    "plt.tight_layout()"
   ]
  },
  {
   "cell_type": "code",
   "execution_count": 15,
   "metadata": {},
   "outputs": [],
   "source": [
    "#A random number generator with a seed of 105 is used to generate weights, which are the allocations of stock portfolios\n",
    "#The weights have been normalized so that the total is equal to 1.\n",
    "#The portfolio of stocks with the highest Sharpe Ratio is the best allocation possible.\n",
    "\n",
    "np.random.seed(105)\n",
    "\n",
    "portfolio = 50000\n",
    "all_weights = np.zeros((portfolio, len(closing_price.columns) ))\n",
    "ret_arr = np.zeros(portfolio)\n",
    "vol_arr = np.zeros(portfolio)\n",
    "sharp_arr = np.zeros(portfolio)\n",
    "\n",
    "for ind in range(portfolio):\n",
    "\n",
    "\n",
    "    weights = np.array(np.random.random(9)) \n",
    "    weights = weights / np.sum(weights)\n",
    "    all_weights[ind, :] = weights\n",
    "    \n",
    "    exp_ret = np.sum((log_ret.mean() * weights) * 252)\n",
    "    ret_arr[ind] = exp_ret\n",
    "    \n",
    "    exp_vol = np.sqrt(np.dot(weights.T, np.dot(log_ret.cov() * 252, weights)))\n",
    "    vol_arr[ind] = exp_vol\n",
    "\n",
    "\"\"\"The Sharpe Ratio is used as a metric to evaluate the lucrativeness of the portfolio.\n",
    "The Sharpe Ratio is the ratio of the expected returns to the expected volatility and quantifies the maximum return \n",
    "an investor can expect for a given risk. The higher the Sharpe Ratio the better.\"\"\"\n",
    "    \n",
    "    SR = ret_arr[ind] / vol_arr[ind]\n",
    "    sharp_arr[ind] = SR  \n",
    "    "
   ]
  },
  {
   "cell_type": "code",
   "execution_count": 16,
   "metadata": {},
   "outputs": [],
   "source": [
    "#Finding the best combination of stocks which means the maximum value for the Sharpe ratio\n",
    "\n",
    "sharp_arr.argmax()\n",
    "\n",
    "max_vol = vol_arr[sharp_arr.argmax()]\n",
    "max_ret = ret_arr[sharp_arr.argmax()]\n",
    "best_weights = all_weights[sharp_arr.argmax(), :]"
   ]
  },
  {
   "cell_type": "code",
   "execution_count": 17,
   "metadata": {},
   "outputs": [
    {
     "data": {
      "text/plain": [
       "<matplotlib.collections.PathCollection at 0x1c1f964510>"
      ]
     },
     "execution_count": 17,
     "metadata": {},
     "output_type": "execute_result"
    },
    {
     "data": {
      "image/png": "[encoded data removed]",
      "text/plain": [
       "<Figure size 432x288 with 2 Axes>"
      ]
     },
     "metadata": {
      "needs_background": "light"
     },
     "output_type": "display_data"
    }
   ],
   "source": [
    "#plotting the Markowitz efficient frontier\n",
    "\n",
    "plt.scatter(x = vol_arr, y = ret_arr, c = sharp_arr, cmap = 'plasma')\n",
    "plt.colorbar(label = 'Sharpe Ratio')\n",
    "plt.xlabel('Volatility', fontsize = 14, weight = 'bold')\n",
    "plt.ylabel('Expected Returns', fontsize = 14, weight = 'bold')\n",
    "plt.title('The Optimal Portfolio', fontsize = 16, weight = 'bold')\n",
    "\n",
    "#Finding the portfolio with the best sharpe ratio\n",
    "plt.scatter(max_vol, max_ret, c = 'red', s = 100, edgecolors = 'black')"
   ]
  },
  {
   "cell_type": "code",
   "execution_count": 18,
   "metadata": {},
   "outputs": [
    {
     "name": "stdout",
     "output_type": "stream",
     "text": [
      "FINAL RECOMMENDATION \n",
      "\n",
      "The most optimal allocation would be 24.64 % to Apple\n",
      "The most optimal allocation would be 8.92 % to Microsoft\n",
      "The most optimal allocation would be 11.69 % to Netflix\n",
      "The most optimal allocation would be 24.09 % to Walmart\n",
      "The most optimal allocation would be 26.42 % to CostCo\n",
      "The most optimal allocation would be 2.11 % to Macys\n",
      "The most optimal allocation would be 0.27 % to Goldman Sachs\n",
      "The most optimal allocation would be 0.51 % to JP Morgan Chase\n",
      "The most optimal allocation would be 1.35 % to Bank of America\n"
     ]
    }
   ],
   "source": [
    "print('FINAL RECOMMENDATION \\n')\n",
    "\n",
    "for i in range(0, len(stocks)):\n",
    "    print('The most optimal allocation would be', round(best_weights[i] * 100,2), '% to', stocks[i])"
   ]
  },
  {
   "cell_type": "code",
   "execution_count": 19,
   "metadata": {},
   "outputs": [
    {
     "data": {
      "text/html": [
       "<div>\n",
       "<style scoped>\n",
       "    .dataframe tbody tr th:only-of-type {\n",
       "        vertical-align: middle;\n",
       "    }\n",
       "\n",
       "    .dataframe tbody tr th {\n",
       "        vertical-align: top;\n",
       "    }\n",
       "\n",
       "    .dataframe thead th {\n",
       "        text-align: right;\n",
       "    }\n",
       "</style>\n",
       "<table border=\"1\" class=\"dataframe\">\n",
       "  <thead>\n",
       "    <tr style=\"text-align: right;\">\n",
       "      <th></th>\n",
       "      <th>Individual Returns in Portfolio (%)</th>\n",
       "    </tr>\n",
       "  </thead>\n",
       "  <tbody>\n",
       "    <tr>\n",
       "      <td>Apple</td>\n",
       "      <td>6.4717</td>\n",
       "    </tr>\n",
       "    <tr>\n",
       "      <td>Microsoft</td>\n",
       "      <td>1.6588</td>\n",
       "    </tr>\n",
       "    <tr>\n",
       "      <td>Netflix</td>\n",
       "      <td>4.8476</td>\n",
       "    </tr>\n",
       "    <tr>\n",
       "      <td>Walmart</td>\n",
       "      <td>1.7929</td>\n",
       "    </tr>\n",
       "    <tr>\n",
       "      <td>Costco</td>\n",
       "      <td>4.2299</td>\n",
       "    </tr>\n",
       "    <tr>\n",
       "      <td>Macy</td>\n",
       "      <td>0.2680</td>\n",
       "    </tr>\n",
       "    <tr>\n",
       "      <td>Goldman Sachs</td>\n",
       "      <td>0.0210</td>\n",
       "    </tr>\n",
       "    <tr>\n",
       "      <td>Bank of America</td>\n",
       "      <td>0.0326</td>\n",
       "    </tr>\n",
       "    <tr>\n",
       "      <td>JP Morgan</td>\n",
       "      <td>0.1841</td>\n",
       "    </tr>\n",
       "  </tbody>\n",
       "</table>\n",
       "</div>"
      ],
      "text/plain": [
       "                 Individual Returns in Portfolio (%)\n",
       "Apple                                         6.4717\n",
       "Microsoft                                     1.6588\n",
       "Netflix                                       4.8476\n",
       "Walmart                                       1.7929\n",
       "Costco                                        4.2299\n",
       "Macy                                          0.2680\n",
       "Goldman Sachs                                 0.0210\n",
       "Bank of America                               0.0326\n",
       "JP Morgan                                     0.1841"
      ]
     },
     "execution_count": 19,
     "metadata": {},
     "output_type": "execute_result"
    }
   ],
   "source": [
    "#Individual returns in the portfolio \n",
    "port_ret =  (log_ret * best_weights) * 100\n",
    "\n",
    "#Annualising the individual returns in the portfolio by multiplying by approximately 252 working days\n",
    "port_ret = port_ret.mean() * 252  \n",
    "port_ret = round(pd.concat([port_ret], axis = 1),4)\n",
    "port_ret.columns = ['Individual Returns in Portfolio (%)'] \n",
    "port_ret"
   ]
  },
  {
   "cell_type": "markdown",
   "metadata": {},
   "source": [
    "# Regression Analysis"
   ]
  },
  {
   "cell_type": "code",
   "execution_count": 20,
   "metadata": {},
   "outputs": [],
   "source": [
    "x = closing_price\n",
    "y = SP500"
   ]
  },
  {
   "cell_type": "code",
   "execution_count": 21,
   "metadata": {},
   "outputs": [],
   "source": [
    "x_train, x_test, y_train, y_test = train_test_split(x, y, test_size = 0.2, random_state = 0)"
   ]
  },
  {
   "cell_type": "code",
   "execution_count": 22,
   "metadata": {},
   "outputs": [
    {
     "data": {
      "text/plain": [
       "LinearRegression(copy_X=True, fit_intercept=True, n_jobs=None, normalize=False)"
      ]
     },
     "execution_count": 22,
     "metadata": {},
     "output_type": "execute_result"
    }
   ],
   "source": [
    "regressor = LinearRegression()\n",
    "regressor.fit(x_train, y_train)"
   ]
  },
  {
   "cell_type": "code",
   "execution_count": 23,
   "metadata": {},
   "outputs": [],
   "source": [
    "y_pred = regressor.predict(x_test)"
   ]
  },
  {
   "cell_type": "code",
   "execution_count": 24,
   "metadata": {},
   "outputs": [
    {
     "data": {
      "text/plain": [
       "298.72620339282435"
      ]
     },
     "execution_count": 24,
     "metadata": {},
     "output_type": "execute_result"
    }
   ],
   "source": [
    "intercept = regressor.intercept_\n",
    "intercept"
   ]
  },
  {
   "cell_type": "code",
   "execution_count": 25,
   "metadata": {},
   "outputs": [
    {
     "data": {
      "text/plain": [
       "0.9870928285731019"
      ]
     },
     "execution_count": 25,
     "metadata": {},
     "output_type": "execute_result"
    }
   ],
   "source": [
    "#R-Square value indicates how well the independent variables exaplain the variation in the dependent variable.  \n",
    "R_squared = r2_score(y_test, y_pred)\n",
    "R_squared"
   ]
  },
  {
   "cell_type": "markdown",
   "metadata": {},
   "source": [
    "A 98% R-squared value indicates that the independent variables such as Apple, Microsoft prices explain 98% of the variation in the S&P 500 index prices. The high value indicates that our model is reliable and that the selected stocks explain the fluctuation in the SP500 index value.  "
   ]
  },
  {
   "cell_type": "code",
   "execution_count": 26,
   "metadata": {},
   "outputs": [
    {
     "name": "stderr",
     "output_type": "stream",
     "text": [
      "/Users/Safwan/opt/anaconda3/lib/python3.7/site-packages/numpy/core/fromnumeric.py:2495: FutureWarning: Method .ptp is deprecated and will be removed in a future version. Use numpy.ptp instead.\n",
      "  return ptp(axis=axis, out=out, **kwargs)\n"
     ]
    }
   ],
   "source": [
    "x2 = sm.add_constant(x)\n",
    "\n",
    "model = sm.OLS(y, x2)"
   ]
  },
  {
   "cell_type": "code",
   "execution_count": 27,
   "metadata": {},
   "outputs": [],
   "source": [
    "est = model.fit()"
   ]
  },
  {
   "cell_type": "code",
   "execution_count": 28,
   "metadata": {},
   "outputs": [
    {
     "name": "stdout",
     "output_type": "stream",
     "text": [
      "                            OLS Regression Results                            \n",
      "==============================================================================\n",
      "Dep. Variable:              Adj Close   R-squared:                       0.988\n",
      "Model:                            OLS   Adj. R-squared:                  0.988\n",
      "Method:                 Least Squares   F-statistic:                 2.214e+04\n",
      "Date:                Mon, 28 Dec 2020   Prob (F-statistic):               0.00\n",
      "Time:                        11:44:18   Log-Likelihood:                -13994.\n",
      "No. Observations:                2516   AIC:                         2.801e+04\n",
      "Df Residuals:                    2506   BIC:                         2.807e+04\n",
      "Df Model:                           9                                         \n",
      "Covariance Type:            nonrobust                                         \n",
      "===================================================================================\n",
      "                      coef    std err          t      P>|t|      [0.025      0.975]\n",
      "-----------------------------------------------------------------------------------\n",
      "const             300.9365     10.982     27.403      0.000     279.402     322.471\n",
      "Apple               4.2988      0.500      8.593      0.000       3.318       5.280\n",
      "Microsoft           0.5821      0.489      1.191      0.234      -0.376       1.540\n",
      "Netflix            -1.0078      0.066    -15.362      0.000      -1.136      -0.879\n",
      "Walmart             1.3668      0.280      4.887      0.000       0.818       1.915\n",
      "Costco              4.2942      0.156     27.548      0.000       3.989       4.600\n",
      "Macy                5.9692      0.219     27.245      0.000       5.540       6.399\n",
      "Goldman Sachs       1.4745      0.149      9.900      0.000       1.182       1.767\n",
      "Bank of America   -13.5116      1.206    -11.203      0.000     -15.876     -11.147\n",
      "JP Morgan          14.2199      0.591     24.070      0.000      13.061      15.378\n",
      "==============================================================================\n",
      "Omnibus:                        4.155   Durbin-Watson:                   0.029\n",
      "Prob(Omnibus):                  0.125   Jarque-Bera (JB):                4.075\n",
      "Skew:                          -0.089   Prob(JB):                        0.130\n",
      "Kurtosis:                       3.085   Cond. No.                     2.15e+03\n",
      "==============================================================================\n",
      "\n",
      "Warnings:\n",
      "[1] Standard Errors assume that the covariance matrix of the errors is correctly specified.\n",
      "[2] The condition number is large, 2.15e+03. This might indicate that there are\n",
      "strong multicollinearity or other numerical problems.\n"
     ]
    }
   ],
   "source": [
    "print(est.summary())"
   ]
  },
  {
   "cell_type": "code",
   "execution_count": 29,
   "metadata": {},
   "outputs": [
    {
     "data": {
      "text/plain": [
       "(xA, xM, xN, xW, xC, xM, xGS, xBOA, xJP)"
      ]
     },
     "execution_count": 29,
     "metadata": {},
     "output_type": "execute_result"
    }
   ],
   "source": [
    "from sympy import *\n",
    "xA, xM, xN, xW, xC, xM, xGS, xBOA, xJP = symbols('xA xM xN xW xC xM xGS xBOA xJP') \n",
    "xA, xM, xN, xW, xC, xM, xGS, xBOA, xJP"
   ]
  },
  {
   "cell_type": "code",
   "execution_count": 30,
   "metadata": {},
   "outputs": [],
   "source": [
    "#Forming a multivariate equation using SP500 as the dependent variable and the 9 selected stocks as the independent variable.\n",
    "\n",
    "y_sp = 297 + xA*1.05 + xM*0.58 - xN*0.99 + xW*1.44 + xC*4.15 + xM*5.56 + xGS*1.45 + xBOA*13.16 + xJP*13.63"
   ]
  },
  {
   "cell_type": "code",
   "execution_count": 31,
   "metadata": {},
   "outputs": [
    {
     "data": {
      "text/latex": [
       "$\\displaystyle 1.05 xA + 13.16 xBOA + 4.15 xC + 1.45 xGS + 13.63 xJP + 6.14 xM - 0.99 xN + 1.44 xW + 297$"
      ],
      "text/plain": [
       "1.05*xA + 13.16*xBOA + 4.15*xC + 1.45*xGS + 13.63*xJP + 6.14*xM - 0.99*xN + 1.44*xW + 297"
      ]
     },
     "execution_count": 31,
     "metadata": {},
     "output_type": "execute_result"
    }
   ],
   "source": [
    "y_sp"
   ]
  },
  {
   "cell_type": "markdown",
   "metadata": {},
   "source": [
    "# Finding the sensitivity of the SP500 index value against the movement of the share price of Apple. We only find the sensitivity of index to Apple's share price as it has the highest market capitalisation among the other shares."
   ]
  },
  {
   "cell_type": "code",
   "execution_count": 32,
   "metadata": {},
   "outputs": [
    {
     "data": {
      "text/latex": [
       "$\\displaystyle 1.05$"
      ],
      "text/plain": [
       "1.05000000000000"
      ]
     },
     "execution_count": 32,
     "metadata": {},
     "output_type": "execute_result"
    }
   ],
   "source": [
    "#Differentiating Y(SP500) with respect to Apple\n",
    "\n",
    "dyda = diff(y_sp, xA)\n",
    "dyda"
   ]
  },
  {
   "cell_type": "code",
   "execution_count": 33,
   "metadata": {},
   "outputs": [
    {
     "data": {
      "text/plain": [
       "21.106347376788573"
      ]
     },
     "metadata": {},
     "output_type": "display_data"
    },
    {
     "data": {
      "text/plain": [
       "1765.7654054054046"
      ]
     },
     "metadata": {},
     "output_type": "display_data"
    }
   ],
   "source": [
    "#Mean Apple and SP500 index value over the 10 year period\n",
    "\n",
    "AppleMeanPrice = closing_price.Apple.mean()\n",
    "SP500MeanPrice = index_value.SP500.mean()\n",
    "display(AppleMeanPrice)\n",
    "display(SP500MeanPrice)"
   ]
  },
  {
   "cell_type": "code",
   "execution_count": 34,
   "metadata": {},
   "outputs": [
    {
     "data": {
      "text/latex": [
       "$\\displaystyle 0.012550741269359$"
      ],
      "text/plain": [
       "0.0125507412693590"
      ]
     },
     "execution_count": 34,
     "metadata": {},
     "output_type": "execute_result"
    }
   ],
   "source": [
    "#Sensitivity of S&P500 against Apple\n",
    "SenApple = dyda * (AppleMeanPrice / SP500MeanPrice)\n",
    "SenApple"
   ]
  },
  {
   "cell_type": "markdown",
   "metadata": {},
   "source": [
    "# A 1% increase in Apple's share price will lead to a 0.051% increase in the S&P500 index value"
   ]
  },
  {
   "cell_type": "code",
   "execution_count": null,
   "metadata": {},
   "outputs": [],
   "source": []
  }
 ],
 "metadata": {
  "kernelspec": {
   "display_name": "Python 3",
   "language": "python",
   "name": "python3"
  },
  "language_info": {
   "codemirror_mode": {
    "name": "ipython",
    "version": 3
   },
   "file_extension": ".py",
   "mimetype": "text/x-python",
   "name": "python",
   "nbconvert_exporter": "python",
   "pygments_lexer": "ipython3",
   "version": "3.7.4"
  }
 },
 "nbformat": 4,
 "nbformat_minor": 2
}
